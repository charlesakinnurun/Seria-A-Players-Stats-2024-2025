{
 "cells": [
  {
   "cell_type": "markdown",
   "id": "40ad0a8c",
   "metadata": {},
   "source": [
    "Data Preprocessing"
   ]
  },
  {
   "cell_type": "markdown",
   "id": "f152166b",
   "metadata": {},
   "source": [
    "Import the libraries"
   ]
  },
  {
   "cell_type": "code",
   "execution_count": 163,
   "id": "f71bf8c9",
   "metadata": {},
   "outputs": [],
   "source": [
    "import pandas as pd"
   ]
  },
  {
   "cell_type": "markdown",
   "id": "c6030e97",
   "metadata": {},
   "source": [
    "Load the dataset"
   ]
  },
  {
   "cell_type": "code",
   "execution_count": 164,
   "id": "72e87550",
   "metadata": {},
   "outputs": [
    {
     "name": "stdout",
     "output_type": "stream",
     "text": [
      "            Player   Team  Shirt Number Nation Position     Age  Minutes  \\\n",
      "0          Vitinha  Genoa             9    POR       FW  24-155       90   \n",
      "1   Junior Messias  Genoa            10    BRA    FW,RW  33-096       90   \n",
      "2  Morten Frendrup  Genoa            32    DEN       CM  23-132       90   \n",
      "3     Milan Badelj  Genoa            47    CRO       CM  35-174       85   \n",
      "4     Jeff Ekhator  Genoa            21    ITA       LW  17-280        5   \n",
      "\n",
      "   Goals  Assists  Penalty Shoot on Goal  ...  Goal-Creating Actions  \\\n",
      "0      0        0                      0  ...                      0   \n",
      "1      1        0                      0  ...                      1   \n",
      "2      0        0                      0  ...                      0   \n",
      "3      0        0                      0  ...                      0   \n",
      "4      0        0                      0  ...                      0   \n",
      "\n",
      "   Passes Completed  Passes Attempted  Pass Completion %  Progressive Passes  \\\n",
      "0                 8                13               61,5                   1   \n",
      "1                 6                 8               75,0                   1   \n",
      "2                20                23               87,0                   3   \n",
      "3                23                28               82,1                   2   \n",
      "4                 1                 2               50,0                   0   \n",
      "\n",
      "   Carries  Progressive Carries  Dribble Attempts  Successful Dribbles  \\\n",
      "0       16                    3                 6                    5   \n",
      "1       13                    1                 4                    1   \n",
      "2       13                    0                 1                    1   \n",
      "3       20                    0                 2                    1   \n",
      "4        2                    0                 0                    0   \n",
      "\n",
      "        Date  \n",
      "0  8/17/2024  \n",
      "1  8/17/2024  \n",
      "2  8/17/2024  \n",
      "3  8/17/2024  \n",
      "4  8/17/2024  \n",
      "\n",
      "[5 rows x 33 columns]\n"
     ]
    }
   ],
   "source": [
    "df = pd.read_csv(\"seria.csv\")\n",
    "print(df.head())"
   ]
  },
  {
   "cell_type": "markdown",
   "id": "573aa203",
   "metadata": {},
   "source": [
    "Replace commas with periods and convert to float in \"Pass Completion %\" column"
   ]
  },
  {
   "cell_type": "code",
   "execution_count": 165,
   "id": "837403d6",
   "metadata": {},
   "outputs": [
    {
     "name": "stdout",
     "output_type": "stream",
     "text": [
      "            Player   Team  Shirt Number Nation Position     Age  Minutes  \\\n",
      "0          Vitinha  Genoa             9    POR       FW  24-155       90   \n",
      "1   Junior Messias  Genoa            10    BRA    FW,RW  33-096       90   \n",
      "2  Morten Frendrup  Genoa            32    DEN       CM  23-132       90   \n",
      "3     Milan Badelj  Genoa            47    CRO       CM  35-174       85   \n",
      "4     Jeff Ekhator  Genoa            21    ITA       LW  17-280        5   \n",
      "\n",
      "   Goals  Assists  Penalty Shoot on Goal  ...  Goal-Creating Actions  \\\n",
      "0      0        0                      0  ...                      0   \n",
      "1      1        0                      0  ...                      1   \n",
      "2      0        0                      0  ...                      0   \n",
      "3      0        0                      0  ...                      0   \n",
      "4      0        0                      0  ...                      0   \n",
      "\n",
      "   Passes Completed  Passes Attempted  Pass Completion %  Progressive Passes  \\\n",
      "0                 8                13               61.5                   1   \n",
      "1                 6                 8               75.0                   1   \n",
      "2                20                23               87.0                   3   \n",
      "3                23                28               82.1                   2   \n",
      "4                 1                 2               50.0                   0   \n",
      "\n",
      "   Carries  Progressive Carries  Dribble Attempts  Successful Dribbles  \\\n",
      "0       16                    3                 6                    5   \n",
      "1       13                    1                 4                    1   \n",
      "2       13                    0                 1                    1   \n",
      "3       20                    0                 2                    1   \n",
      "4        2                    0                 0                    0   \n",
      "\n",
      "        Date  \n",
      "0  8/17/2024  \n",
      "1  8/17/2024  \n",
      "2  8/17/2024  \n",
      "3  8/17/2024  \n",
      "4  8/17/2024  \n",
      "\n",
      "[5 rows x 33 columns]\n"
     ]
    }
   ],
   "source": [
    "df[\"Pass Completion %\"] = df[\"Pass Completion %\"].str.replace(\",\",\".\",regex=True).astype(float)\n",
    "print(df.head())"
   ]
  },
  {
   "cell_type": "markdown",
   "id": "bc204364",
   "metadata": {},
   "source": [
    "Replace commas with and in \"Postion\" column"
   ]
  },
  {
   "cell_type": "code",
   "execution_count": 166,
   "id": "f12ee636",
   "metadata": {},
   "outputs": [
    {
     "name": "stdout",
     "output_type": "stream",
     "text": [
      "            Player   Team  Shirt Number Nation   Position     Age  Minutes  \\\n",
      "0          Vitinha  Genoa             9    POR         FW  24-155       90   \n",
      "1   Junior Messias  Genoa            10    BRA  FW and RW  33-096       90   \n",
      "2  Morten Frendrup  Genoa            32    DEN         CM  23-132       90   \n",
      "3     Milan Badelj  Genoa            47    CRO         CM  35-174       85   \n",
      "4     Jeff Ekhator  Genoa            21    ITA         LW  17-280        5   \n",
      "\n",
      "   Goals  Assists  Penalty Shoot on Goal  ...  Goal-Creating Actions  \\\n",
      "0      0        0                      0  ...                      0   \n",
      "1      1        0                      0  ...                      1   \n",
      "2      0        0                      0  ...                      0   \n",
      "3      0        0                      0  ...                      0   \n",
      "4      0        0                      0  ...                      0   \n",
      "\n",
      "   Passes Completed  Passes Attempted  Pass Completion %  Progressive Passes  \\\n",
      "0                 8                13               61.5                   1   \n",
      "1                 6                 8               75.0                   1   \n",
      "2                20                23               87.0                   3   \n",
      "3                23                28               82.1                   2   \n",
      "4                 1                 2               50.0                   0   \n",
      "\n",
      "   Carries  Progressive Carries  Dribble Attempts  Successful Dribbles  \\\n",
      "0       16                    3                 6                    5   \n",
      "1       13                    1                 4                    1   \n",
      "2       13                    0                 1                    1   \n",
      "3       20                    0                 2                    1   \n",
      "4        2                    0                 0                    0   \n",
      "\n",
      "        Date  \n",
      "0  8/17/2024  \n",
      "1  8/17/2024  \n",
      "2  8/17/2024  \n",
      "3  8/17/2024  \n",
      "4  8/17/2024  \n",
      "\n",
      "[5 rows x 33 columns]\n"
     ]
    }
   ],
   "source": [
    "df[\"Position\"] = df[\"Position\"].str.replace(\",\",\" and \",regex=True)\n",
    "print(df.head())"
   ]
  },
  {
   "cell_type": "markdown",
   "id": "d76d40c9",
   "metadata": {},
   "source": [
    "Fill missing values in \"Pass Completion %\" with the mean"
   ]
  },
  {
   "cell_type": "code",
   "execution_count": 167,
   "id": "e2836867",
   "metadata": {},
   "outputs": [
    {
     "name": "stdout",
     "output_type": "stream",
     "text": [
      "            Player   Team  Shirt Number Nation   Position     Age  Minutes  \\\n",
      "0          Vitinha  Genoa             9    POR         FW  24-155       90   \n",
      "1   Junior Messias  Genoa            10    BRA  FW and RW  33-096       90   \n",
      "2  Morten Frendrup  Genoa            32    DEN         CM  23-132       90   \n",
      "3     Milan Badelj  Genoa            47    CRO         CM  35-174       85   \n",
      "4     Jeff Ekhator  Genoa            21    ITA         LW  17-280        5   \n",
      "\n",
      "   Goals  Assists  Penalty Shoot on Goal  ...  Goal-Creating Actions  \\\n",
      "0      0        0                      0  ...                      0   \n",
      "1      1        0                      0  ...                      1   \n",
      "2      0        0                      0  ...                      0   \n",
      "3      0        0                      0  ...                      0   \n",
      "4      0        0                      0  ...                      0   \n",
      "\n",
      "   Passes Completed  Passes Attempted  Pass Completion %  Progressive Passes  \\\n",
      "0                 8                13               61.5                   1   \n",
      "1                 6                 8               75.0                   1   \n",
      "2                20                23               87.0                   3   \n",
      "3                23                28               82.1                   2   \n",
      "4                 1                 2               50.0                   0   \n",
      "\n",
      "   Carries  Progressive Carries  Dribble Attempts  Successful Dribbles  \\\n",
      "0       16                    3                 6                    5   \n",
      "1       13                    1                 4                    1   \n",
      "2       13                    0                 1                    1   \n",
      "3       20                    0                 2                    1   \n",
      "4        2                    0                 0                    0   \n",
      "\n",
      "        Date  \n",
      "0  8/17/2024  \n",
      "1  8/17/2024  \n",
      "2  8/17/2024  \n",
      "3  8/17/2024  \n",
      "4  8/17/2024  \n",
      "\n",
      "[5 rows x 33 columns]\n"
     ]
    }
   ],
   "source": [
    "df['Pass Completion %'] = df['Pass Completion %'].fillna(df['Pass Completion %'].mean())\n",
    "print(df.head())"
   ]
  },
  {
   "cell_type": "markdown",
   "id": "2c5ac15d",
   "metadata": {},
   "source": [
    "Clean the \"Age\" Column\n",
    "The 'Age' column is in 'YY-DDD' format, so we extract the years and convert to integer"
   ]
  },
  {
   "cell_type": "code",
   "execution_count": 168,
   "id": "8bf9e634",
   "metadata": {},
   "outputs": [
    {
     "name": "stdout",
     "output_type": "stream",
     "text": [
      "            Player   Team  Shirt Number Nation   Position  Age  Minutes  \\\n",
      "0          Vitinha  Genoa             9    POR         FW   24       90   \n",
      "1   Junior Messias  Genoa            10    BRA  FW and RW   33       90   \n",
      "2  Morten Frendrup  Genoa            32    DEN         CM   23       90   \n",
      "3     Milan Badelj  Genoa            47    CRO         CM   35       85   \n",
      "4     Jeff Ekhator  Genoa            21    ITA         LW   17        5   \n",
      "\n",
      "   Goals  Assists  Penalty Shoot on Goal  ...  Goal-Creating Actions  \\\n",
      "0      0        0                      0  ...                      0   \n",
      "1      1        0                      0  ...                      1   \n",
      "2      0        0                      0  ...                      0   \n",
      "3      0        0                      0  ...                      0   \n",
      "4      0        0                      0  ...                      0   \n",
      "\n",
      "   Passes Completed  Passes Attempted  Pass Completion %  Progressive Passes  \\\n",
      "0                 8                13               61.5                   1   \n",
      "1                 6                 8               75.0                   1   \n",
      "2                20                23               87.0                   3   \n",
      "3                23                28               82.1                   2   \n",
      "4                 1                 2               50.0                   0   \n",
      "\n",
      "   Carries  Progressive Carries  Dribble Attempts  Successful Dribbles  \\\n",
      "0       16                    3                 6                    5   \n",
      "1       13                    1                 4                    1   \n",
      "2       13                    0                 1                    1   \n",
      "3       20                    0                 2                    1   \n",
      "4        2                    0                 0                    0   \n",
      "\n",
      "        Date  \n",
      "0  8/17/2024  \n",
      "1  8/17/2024  \n",
      "2  8/17/2024  \n",
      "3  8/17/2024  \n",
      "4  8/17/2024  \n",
      "\n",
      "[5 rows x 33 columns]\n"
     ]
    }
   ],
   "source": [
    "df['Age'] = df['Age'].apply(lambda x: int(x.split('-')[0]))\n",
    "print(df.head())"
   ]
  },
  {
   "cell_type": "markdown",
   "id": "72b81488",
   "metadata": {},
   "source": [
    "Convert \"Date\" Column to datetime objects"
   ]
  },
  {
   "cell_type": "code",
   "execution_count": 169,
   "id": "6ae95f4f",
   "metadata": {},
   "outputs": [
    {
     "name": "stdout",
     "output_type": "stream",
     "text": [
      "            Player   Team  Shirt Number Nation   Position  Age  Minutes  \\\n",
      "0          Vitinha  Genoa             9    POR         FW   24       90   \n",
      "1   Junior Messias  Genoa            10    BRA  FW and RW   33       90   \n",
      "2  Morten Frendrup  Genoa            32    DEN         CM   23       90   \n",
      "3     Milan Badelj  Genoa            47    CRO         CM   35       85   \n",
      "4     Jeff Ekhator  Genoa            21    ITA         LW   17        5   \n",
      "\n",
      "   Goals  Assists  Penalty Shoot on Goal  ...  Goal-Creating Actions  \\\n",
      "0      0        0                      0  ...                      0   \n",
      "1      1        0                      0  ...                      1   \n",
      "2      0        0                      0  ...                      0   \n",
      "3      0        0                      0  ...                      0   \n",
      "4      0        0                      0  ...                      0   \n",
      "\n",
      "   Passes Completed  Passes Attempted  Pass Completion %  Progressive Passes  \\\n",
      "0                 8                13               61.5                   1   \n",
      "1                 6                 8               75.0                   1   \n",
      "2                20                23               87.0                   3   \n",
      "3                23                28               82.1                   2   \n",
      "4                 1                 2               50.0                   0   \n",
      "\n",
      "   Carries  Progressive Carries  Dribble Attempts  Successful Dribbles  \\\n",
      "0       16                    3                 6                    5   \n",
      "1       13                    1                 4                    1   \n",
      "2       13                    0                 1                    1   \n",
      "3       20                    0                 2                    1   \n",
      "4        2                    0                 0                    0   \n",
      "\n",
      "        Date  \n",
      "0 2024-08-17  \n",
      "1 2024-08-17  \n",
      "2 2024-08-17  \n",
      "3 2024-08-17  \n",
      "4 2024-08-17  \n",
      "\n",
      "[5 rows x 33 columns]\n"
     ]
    }
   ],
   "source": [
    "df[\"Date\"] = pd.to_datetime(df[\"Date\"])\n",
    "print(df.head())"
   ]
  },
  {
   "cell_type": "markdown",
   "id": "68a48314",
   "metadata": {},
   "source": [
    "Check for missing values"
   ]
  },
  {
   "cell_type": "code",
   "execution_count": 170,
   "id": "99132a95",
   "metadata": {},
   "outputs": [
    {
     "name": "stdout",
     "output_type": "stream",
     "text": [
      "Player                    0\n",
      "Team                      0\n",
      "Shirt Number              0\n",
      "Nation                    0\n",
      "Position                  0\n",
      "Age                       0\n",
      "Minutes                   0\n",
      "Goals                     0\n",
      "Assists                   0\n",
      "Penalty Shoot on Goal     0\n",
      "Penalty Shoot             0\n",
      "Total Shoot               0\n",
      "Shoot on Target           0\n",
      "Yellow Cards              0\n",
      "Red Cards                 0\n",
      "Touches                   0\n",
      "Dribbles                  0\n",
      "Tackles                   0\n",
      "Blocks                    0\n",
      "Expected Goals (xG)       0\n",
      "Non-Penalty xG (npxG)     0\n",
      "Expected Assists (xAG)    0\n",
      "Shot-Creating Actions     0\n",
      "Goal-Creating Actions     0\n",
      "Passes Completed          0\n",
      "Passes Attempted          0\n",
      "Pass Completion %         0\n",
      "Progressive Passes        0\n",
      "Carries                   0\n",
      "Progressive Carries       0\n",
      "Dribble Attempts          0\n",
      "Successful Dribbles       0\n",
      "Date                      0\n",
      "dtype: int64\n"
     ]
    }
   ],
   "source": [
    "df_missing = df.isnull().sum()\n",
    "print(df_missing)"
   ]
  },
  {
   "cell_type": "markdown",
   "id": "7d6c189b",
   "metadata": {},
   "source": [
    "Check for duplicates "
   ]
  },
  {
   "cell_type": "code",
   "execution_count": 171,
   "id": "447a7914",
   "metadata": {},
   "outputs": [
    {
     "name": "stdout",
     "output_type": "stream",
     "text": [
      "0       False\n",
      "1       False\n",
      "2       False\n",
      "3       False\n",
      "4       False\n",
      "        ...  \n",
      "3973    False\n",
      "3974    False\n",
      "3975    False\n",
      "3976    False\n",
      "3977    False\n",
      "Length: 3978, dtype: bool\n",
      "            Player   Team  Shirt Number Nation   Position  Age  Minutes  \\\n",
      "0          Vitinha  Genoa             9    POR         FW   24       90   \n",
      "1   Junior Messias  Genoa            10    BRA  FW and RW   33       90   \n",
      "2  Morten Frendrup  Genoa            32    DEN         CM   23       90   \n",
      "3     Milan Badelj  Genoa            47    CRO         CM   35       85   \n",
      "4     Jeff Ekhator  Genoa            21    ITA         LW   17        5   \n",
      "\n",
      "   Goals  Assists  Penalty Shoot on Goal  ...  Goal-Creating Actions  \\\n",
      "0      0        0                      0  ...                      0   \n",
      "1      1        0                      0  ...                      1   \n",
      "2      0        0                      0  ...                      0   \n",
      "3      0        0                      0  ...                      0   \n",
      "4      0        0                      0  ...                      0   \n",
      "\n",
      "   Passes Completed  Passes Attempted  Pass Completion %  Progressive Passes  \\\n",
      "0                 8                13               61.5                   1   \n",
      "1                 6                 8               75.0                   1   \n",
      "2                20                23               87.0                   3   \n",
      "3                23                28               82.1                   2   \n",
      "4                 1                 2               50.0                   0   \n",
      "\n",
      "   Carries  Progressive Carries  Dribble Attempts  Successful Dribbles  \\\n",
      "0       16                    3                 6                    5   \n",
      "1       13                    1                 4                    1   \n",
      "2       13                    0                 1                    1   \n",
      "3       20                    0                 2                    1   \n",
      "4        2                    0                 0                    0   \n",
      "\n",
      "        Date  \n",
      "0 2024-08-17  \n",
      "1 2024-08-17  \n",
      "2 2024-08-17  \n",
      "3 2024-08-17  \n",
      "4 2024-08-17  \n",
      "\n",
      "[5 rows x 33 columns]\n"
     ]
    }
   ],
   "source": [
    "df_duplicated = df.duplicated()\n",
    "print(df_duplicated)\n",
    "\n",
    "df_duplicates = df.drop_duplicates()\n",
    "print(df_duplicates.head())"
   ]
  },
  {
   "cell_type": "markdown",
   "id": "a3562da6",
   "metadata": {},
   "source": [
    "Rename columns for Clarity and Consistency"
   ]
  },
  {
   "cell_type": "code",
   "execution_count": 172,
   "id": "d8cea52c",
   "metadata": {},
   "outputs": [
    {
     "name": "stdout",
     "output_type": "stream",
     "text": [
      "            player   team  shirt_number nation   position  age  minutes  \\\n",
      "0          Vitinha  Genoa             9    POR         FW   24       90   \n",
      "1   Junior Messias  Genoa            10    BRA  FW and RW   33       90   \n",
      "2  Morten Frendrup  Genoa            32    DEN         CM   23       90   \n",
      "3     Milan Badelj  Genoa            47    CRO         CM   35       85   \n",
      "4     Jeff Ekhator  Genoa            21    ITA         LW   17        5   \n",
      "\n",
      "   goals  assists  penalty_shoot_on_goal  ...  goal_creating_actions  \\\n",
      "0      0        0                      0  ...                      0   \n",
      "1      1        0                      0  ...                      1   \n",
      "2      0        0                      0  ...                      0   \n",
      "3      0        0                      0  ...                      0   \n",
      "4      0        0                      0  ...                      0   \n",
      "\n",
      "   passes_completed  passes_attempted  pass_completed_%  progressive_passes  \\\n",
      "0                 8                13              61.5                   1   \n",
      "1                 6                 8              75.0                   1   \n",
      "2                20                23              87.0                   3   \n",
      "3                23                28              82.1                   2   \n",
      "4                 1                 2              50.0                   0   \n",
      "\n",
      "   carries  progressive_carries  dribble_attempts  successful_dribbles  \\\n",
      "0       16                    3                 6                    5   \n",
      "1       13                    1                 4                    1   \n",
      "2       13                    0                 1                    1   \n",
      "3       20                    0                 2                    1   \n",
      "4        2                    0                 0                    0   \n",
      "\n",
      "        date  \n",
      "0 2024-08-17  \n",
      "1 2024-08-17  \n",
      "2 2024-08-17  \n",
      "3 2024-08-17  \n",
      "4 2024-08-17  \n",
      "\n",
      "[5 rows x 33 columns]\n"
     ]
    }
   ],
   "source": [
    "df.rename(columns={\n",
    "    \"Player\":\"player\",\n",
    "    \"Team\":\"team\",\n",
    "    \"Shirt Number\":\"shirt_number\",\n",
    "    \"Nation\":\"nation\",\n",
    "    \"Position\":\"position\",\n",
    "    \"Age\":\"age\",\n",
    "    \"Minutes\":\"minutes\",\n",
    "    \"Goals\":\"goals\",\n",
    "    \"Assists\":\"assists\",\n",
    "    \"Penalty Shoot on Goal\":\"penalty_shoot_on_goal\",\n",
    "    \"Penalty Shoot\":\"penalty_shoot\",\n",
    "    \"Total Shoot\":\"total_shoot\",\n",
    "    \"Shoot on Target \":\"shoot_on_target\",\n",
    "    \"Yellow Cards\":\"yellow_cards\",\n",
    "    \"Red Cards\":\"red_cards\",\n",
    "    \"Touches\":\"touches\",\n",
    "    \"Dribbles\":\"dribbles\",\n",
    "    \"Tackles\":\"tackles\",\n",
    "    \"Blocks\":\"blocks\",\n",
    "    \"Expected Goals (xG)\":\"expected_goals_xg\",\n",
    "    \"Non-Penalty xG (npxG)\":\"non_penalty_xg_npxg\",\n",
    "    \"Expected Assists (xAG)\":\"expected_assists_xag\",\n",
    "    \"Shot-Creating Actions\":\"shot_creating_actions\",\n",
    "    \"Goal-Creating Actions\":\"goal_creating_actions\",\n",
    "    \"Passes Completed\":\"passes_completed\",\n",
    "    \"Passes Attempted\":\"passes_attempted\",\n",
    "    \"Pass Completion %\":\"pass_completed_%\",\n",
    "    \"Progressive Passes\":\"progressive_passes\",\n",
    "    \"Carries\":\"carries\",\n",
    "    \"Progressive Carries\":\"progressive_carries\",\n",
    "    \"Dribble Attempts\":\"dribble_attempts\",\n",
    "    \"Successful Dribbles\":\"successful_dribbles\",\n",
    "    \"Date\":\"date\"\n",
    "},inplace=True)\n",
    "print(df.head())"
   ]
  },
  {
   "cell_type": "markdown",
   "id": "33c8ba5d",
   "metadata": {},
   "source": [
    "Save the Cleaned data"
   ]
  },
  {
   "cell_type": "code",
   "execution_count": 173,
   "id": "c743981a",
   "metadata": {},
   "outputs": [
    {
     "name": "stdout",
     "output_type": "stream",
     "text": [
      "Saved Successfully\n"
     ]
    }
   ],
   "source": [
    "df.to_csv(\"seria.cleaned.csv\",index=False)\n",
    "print(\"Saved Successfully\")"
   ]
  }
 ],
 "metadata": {
  "kernelspec": {
   "display_name": "Python 3",
   "language": "python",
   "name": "python3"
  },
  "language_info": {
   "codemirror_mode": {
    "name": "ipython",
    "version": 3
   },
   "file_extension": ".py",
   "mimetype": "text/x-python",
   "name": "python",
   "nbconvert_exporter": "python",
   "pygments_lexer": "ipython3",
   "version": "3.13.3"
  }
 },
 "nbformat": 4,
 "nbformat_minor": 5
}
