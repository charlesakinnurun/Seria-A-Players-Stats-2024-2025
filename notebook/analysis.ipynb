{
 "cells": [
  {
   "cell_type": "markdown",
   "id": "1819118b",
   "metadata": {},
   "source": [
    "Data Analysis"
   ]
  },
  {
   "cell_type": "markdown",
   "id": "72f437dd",
   "metadata": {},
   "source": [
    "Import the necessary libraries"
   ]
  },
  {
   "cell_type": "code",
   "execution_count": 88,
   "id": "a626a4dd",
   "metadata": {},
   "outputs": [],
   "source": [
    "import pandas as pd\n",
    "import matplotlib.pyplot as plt\n",
    "import seaborn as sns"
   ]
  },
  {
   "cell_type": "markdown",
   "id": "2081bafe",
   "metadata": {},
   "source": [
    "Load the cleaned data"
   ]
  },
  {
   "cell_type": "code",
   "execution_count": 89,
   "id": "f47ce21d",
   "metadata": {},
   "outputs": [],
   "source": [
    "df = pd.read_csv(\"seria_cleaned.csv\")"
   ]
  },
  {
   "cell_type": "markdown",
   "id": "5b75d4b4",
   "metadata": {},
   "source": [
    "Question 1: Which player has the highest ratio of successful dribbles to dribble attempts among those who have attempted at least 50 dribbles?"
   ]
  },
  {
   "cell_type": "code",
   "execution_count": 90,
   "id": "1a0f1383",
   "metadata": {},
   "outputs": [],
   "source": [
    "# Filter for players with at least 50 dribble attempts\n",
    "dribblers = df[df['dribble_attempts'] >= 50].copy()\n",
    "# Calculate the dribble success ratio\n",
    "dribblers['dribble_success_ratio'] = dribblers['successful_dribbles'] / dribblers['dribble_attempts']\n",
    "# Find the player with the highest ratio\n",
    "#best_dribbler = dribblers.sort_values(by='dribble_success_ratio', ascending=False).iloc[0]\n",
    "#print(f\"The player with the highest successful dribble ratio (attempting >= 50 dribbles) is {best_dribbler['player']} from {best_dribbler['team']} with a ratio of {best_dribbler['dribble_success_ratio']:.2f}.\")"
   ]
  },
  {
   "cell_type": "markdown",
   "id": "355ff551",
   "metadata": {},
   "source": [
    "Question 2: Can you identify the top 5 players with the most goal-creating actions relative to their total minutes played?"
   ]
  },
  {
   "cell_type": "code",
   "execution_count": 91,
   "id": "1caba275",
   "metadata": {},
   "outputs": [
    {
     "name": "stdout",
     "output_type": "stream",
     "text": [
      "Top 5 players with the most goal-creating actions relative to minutes played\n",
      "           player          team  minutes  goal_creating_actions  gca_per_minute\n",
      "      David Neres        Napoli        3                      2        0.666667\n",
      " Mathis Lambourde Hellas Verona        3                      1        0.333333\n",
      "   Manuel Lazzari         Lazio        4                      1        0.250000\n",
      "  Luca Mazzitelli          Como        6                      1        0.166667\n",
      "Dailon Livramento Hellas Verona       13                      2        0.153846\n"
     ]
    }
   ],
   "source": [
    "# Calculate goal-creating actions per minute\n",
    "df[\"gca_per_minute\"] = df[\"goal_creating_actions\"] / df[\"minutes\"]\n",
    "# Handle potential division by zero\n",
    "df[\"gca_per_minute\"] = df[\"gca_per_minute\"].fillna(0)\n",
    "# Get the top 5 players, ensuring we sort the non-zero minutes played\n",
    "top_5_gca = df[df[\"minutes\"] > 0].sort_values(by=\"gca_per_minute\",ascending=False).head(5)\n",
    "print(\"Top 5 players with the most goal-creating actions relative to minutes played\")\n",
    "print(top_5_gca[[\"player\",\"team\",\"minutes\",\"goal_creating_actions\",\"gca_per_minute\"]].to_string(index=False))"
   ]
  },
  {
   "cell_type": "markdown",
   "id": "740a88c8",
   "metadata": {},
   "source": [
    "What is the average age of players who have scored at least 5 goals, and how does this compare to the average age of players who have not scored any goals"
   ]
  },
  {
   "cell_type": "code",
   "execution_count": 92,
   "id": "839dcbe5",
   "metadata": {},
   "outputs": [
    {
     "name": "stdout",
     "output_type": "stream",
     "text": [
      "Average age of players with at least 5 goals: nan years\n",
      "Average age of players with 0 goals: 26.11 years\n",
      "Players who have scored at least 5 goals are, on average, younger by nan years\n"
     ]
    },
    {
     "data": {
      "image/png": "[encoded data removed]",
      "text/plain": [
       "<Figure size 800x600 with 1 Axes>"
      ]
     },
     "metadata": {},
     "output_type": "display_data"
    }
   ],
   "source": [
    "# Group players by goals scored\n",
    "scorers = df[df[\"goals\"] > 5]\n",
    "non_scorers = df[df[\"goals\"] == 0]\n",
    "# Calculate the average age of each group \n",
    "avg_age_scorers = scorers[\"age\"].mean()\n",
    "avg_age_non_scorers = non_scorers[\"age\"].mean()\n",
    "print(f\"Average age of players with at least 5 goals: {avg_age_scorers:.2f} years\")\n",
    "print(f\"Average age of players with 0 goals: {avg_age_non_scorers:.2f} years\")\n",
    "print(f\"Players who have scored at least 5 goals are, on average, {\"older\" if avg_age_scorers > avg_age_non_scorers else \"younger\"} by {abs(avg_age_scorers - avg_age_non_scorers):.2f} years\")\n",
    "\n",
    "# Create a bar chart for the age comparison\n",
    "plt.figure(figsize=(8,6))\n",
    "sns.barplot(x = [\"scorers (>=5 Goals)\",\"non_scorers (0 goals)\"], y = [avg_age_scorers,avg_age_non_scorers],color=\"#BB6328\")\n",
    "plt.title(\"Average Age of Scorers vs Non-Scorers\")\n",
    "plt.ylabel(\"Average Age (years)\")\n",
    "plt.grid()\n",
    "plt.show()"
   ]
  }
 ],
 "metadata": {
  "kernelspec": {
   "display_name": "Python 3",
   "language": "python",
   "name": "python3"
  },
  "language_info": {
   "codemirror_mode": {
    "name": "ipython",
    "version": 3
   },
   "file_extension": ".py",
   "mimetype": "text/x-python",
   "name": "python",
   "nbconvert_exporter": "python",
   "pygments_lexer": "ipython3",
   "version": "3.13.3"
  }
 },
 "nbformat": 4,
 "nbformat_minor": 5
}
