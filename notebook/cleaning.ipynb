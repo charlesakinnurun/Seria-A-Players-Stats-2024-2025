{
 "cells": [
  {
   "cell_type": "markdown",
   "id": "a4065b2d",
   "metadata": {},
   "source": [
    "Data Preprocessing"
   ]
  },
  {
   "cell_type": "markdown",
   "id": "8972f89b",
   "metadata": {},
   "source": [
    "Import the neccessary libraries"
   ]
  },
  {
   "cell_type": "code",
   "execution_count": 30,
   "id": "1b68f28c",
   "metadata": {},
   "outputs": [],
   "source": [
    "import pandas as pd"
   ]
  },
  {
   "cell_type": "markdown",
   "id": "ea98f589",
   "metadata": {},
   "source": [
    "Load the dataset"
   ]
  },
  {
   "cell_type": "code",
   "execution_count": 31,
   "id": "edb04e73",
   "metadata": {},
   "outputs": [],
   "source": [
    "df = pd.read_csv(\"seria.csv\")"
   ]
  },
  {
   "cell_type": "markdown",
   "id": "44ad3107",
   "metadata": {},
   "source": [
    "Replace commas with periods and convert to float in \"Pass Completion %\" column"
   ]
  },
  {
   "cell_type": "code",
   "execution_count": 32,
   "id": "df71b642",
   "metadata": {},
   "outputs": [],
   "source": [
    "df[\"Pass Completion %\"] = df[\"Pass Completion %\"].str.replace(\",\",\".\",regex=True).astype(float)"
   ]
  },
  {
   "cell_type": "markdown",
   "id": "c857b201",
   "metadata": {},
   "source": [
    "Replace commas with and in \"Postion\" column"
   ]
  },
  {
   "cell_type": "code",
   "execution_count": 33,
   "id": "0e88afb7",
   "metadata": {},
   "outputs": [],
   "source": [
    "df[\"Position\"] = df[\"Position\"].str.replace(\",\",\" and \",regex=True)"
   ]
  },
  {
   "cell_type": "markdown",
   "id": "bf8e2feb",
   "metadata": {},
   "source": [
    "Fill missing values in \"Pass Completion %\" with the mean"
   ]
  },
  {
   "cell_type": "code",
   "execution_count": 34,
   "id": "1968bf40",
   "metadata": {},
   "outputs": [],
   "source": [
    "df['Pass Completion %'] = df['Pass Completion %'].fillna(df['Pass Completion %'].mean())"
   ]
  },
  {
   "cell_type": "markdown",
   "id": "4ae4437f",
   "metadata": {},
   "source": [
    "The 'Age' column is in 'YY-DDD' format, so we extract the years and convert to integer"
   ]
  },
  {
   "cell_type": "code",
   "execution_count": 35,
   "id": "13b46b10",
   "metadata": {},
   "outputs": [],
   "source": [
    "df['Age'] = df['Age'].apply(lambda x: int(x.split('-')[0]))"
   ]
  },
  {
   "cell_type": "markdown",
   "id": "6a18d36b",
   "metadata": {},
   "source": [
    "Convert \"Date\" Column to datetime objects"
   ]
  },
  {
   "cell_type": "code",
   "execution_count": 36,
   "id": "e728eafa",
   "metadata": {},
   "outputs": [],
   "source": [
    "df[\"Date\"] = pd.to_datetime(df[\"Date\"])"
   ]
  },
  {
   "cell_type": "markdown",
   "id": "8663fae8",
   "metadata": {},
   "source": [
    "Check for missing values"
   ]
  },
  {
   "cell_type": "code",
   "execution_count": 37,
   "id": "3d443348",
   "metadata": {},
   "outputs": [],
   "source": [
    "df_missing = df.isnull().sum()"
   ]
  },
  {
   "cell_type": "markdown",
   "id": "792ba0b5",
   "metadata": {},
   "source": [
    "Check for duplicates"
   ]
  },
  {
   "cell_type": "code",
   "execution_count": 38,
   "id": "62c320a1",
   "metadata": {},
   "outputs": [],
   "source": [
    "df_duplicated = df.duplicated()"
   ]
  },
  {
   "cell_type": "markdown",
   "id": "49cb0318",
   "metadata": {},
   "source": [
    "Drop duplicates"
   ]
  },
  {
   "cell_type": "code",
   "execution_count": 39,
   "id": "82ef0bea",
   "metadata": {},
   "outputs": [],
   "source": [
    "df_duplicates = df.drop_duplicates()"
   ]
  },
  {
   "cell_type": "markdown",
   "id": "474a6bfd",
   "metadata": {},
   "source": [
    "Rename columns for Clarity and Consistency"
   ]
  },
  {
   "cell_type": "code",
   "execution_count": 40,
   "id": "ef32caf3",
   "metadata": {},
   "outputs": [],
   "source": [
    "df.rename(columns={\n",
    "    \"Player\":\"player\",\n",
    "    \"Team\":\"team\",\n",
    "    \"Shirt Number\":\"shirt_number\",\n",
    "    \"Nation\":\"nation\",\n",
    "    \"Position\":\"position\",\n",
    "    \"Age\":\"age\",\n",
    "    \"Minutes\":\"minutes\",\n",
    "    \"Goals\":\"goals\",\n",
    "    \"Assists\":\"assists\",\n",
    "    \"Penalty Shoot on Goal\":\"penalty_shoot_on_goal\",\n",
    "    \"Penalty Shoot\":\"penalty_shoot\",\n",
    "    \"Total Shoot\":\"total_shoot\",\n",
    "    \"Shoot on Target \":\"shoot_on_target\",\n",
    "    \"Yellow Cards\":\"yellow_cards\",\n",
    "    \"Red Cards\":\"red_cards\",\n",
    "    \"Touches\":\"touches\",\n",
    "    \"Dribbles\":\"dribbles\",\n",
    "    \"Tackles\":\"tackles\",\n",
    "    \"Blocks\":\"blocks\",\n",
    "    \"Expected Goals (xG)\":\"expected_goals_xg\",\n",
    "    \"Non-Penalty xG (npxG)\":\"non_penalty_xg_npxg\",\n",
    "    \"Expected Assists (xAG)\":\"expected_assists_xag\",\n",
    "    \"Shot-Creating Actions\":\"shot_creating_actions\",\n",
    "    \"Goal-Creating Actions\":\"goal_creating_actions\",\n",
    "    \"Passes Completed\":\"passes_completed\",\n",
    "    \"Passes Attempted\":\"passes_attempted\",\n",
    "    \"Pass Completion %\":\"pass_completed_%\",\n",
    "    \"Progressive Passes\":\"progressive_passes\",\n",
    "    \"Carries\":\"carries\",\n",
    "    \"Progressive Carries\":\"progressive_carries\",\n",
    "    \"Dribble Attempts\":\"dribble_attempts\",\n",
    "    \"Successful Dribbles\":\"successful_dribbles\",\n",
    "    \"Date\":\"date\"\n",
    "},inplace=True)"
   ]
  },
  {
   "cell_type": "markdown",
   "id": "08649551",
   "metadata": {},
   "source": [
    "Save the Cleaned data"
   ]
  },
  {
   "cell_type": "code",
   "execution_count": 41,
   "id": "654c6f22",
   "metadata": {},
   "outputs": [
    {
     "name": "stdout",
     "output_type": "stream",
     "text": [
      "Saved Successfully\n"
     ]
    }
   ],
   "source": [
    "df.to_csv(\"seria_cleaned.csv\",index=False)\n",
    "print(\"Saved Successfully\")"
   ]
  }
 ],
 "metadata": {
  "kernelspec": {
   "display_name": "Python 3",
   "language": "python",
   "name": "python3"
  },
  "language_info": {
   "codemirror_mode": {
    "name": "ipython",
    "version": 3
   },
   "file_extension": ".py",
   "mimetype": "text/x-python",
   "name": "python",
   "nbconvert_exporter": "python",
   "pygments_lexer": "ipython3",
   "version": "3.13.3"
  }
 },
 "nbformat": 4,
 "nbformat_minor": 5
}
